{
 "cells": [
  {
   "cell_type": "markdown",
   "id": "ced60ad9-c9ba-4b77-a936-a3735d31d12c",
   "metadata": {},
   "source": [
    "## Project- Creating a class with JSON methods\n",
    "- I am creating an employee class\n",
    "- There is a method that can be used to update an employee's age\n",
    "- Inside the class is a method that can be used to add an employees characteristics to a JSON file\n",
    "- Inside the class is also a method to load a JSON file to a dictionary\n",
    "\n",
    "\n",
    "This project is intended for practice purposes and deeper understanding on JSON together with classes as well as methods\n",
    "\n",
    "|Day|Month|Year|\n",
    "|----|----|----|\n",
    "|1|April|2024|\n",
    "  \n",
    "\n",
    "\n"
   ]
  },
  {
   "cell_type": "code",
   "execution_count": 1,
   "id": "efde0e62-b322-4b87-8f24-0aea96457142",
   "metadata": {},
   "outputs": [],
   "source": [
    "import json"
   ]
  },
  {
   "cell_type": "code",
   "execution_count": 2,
   "id": "70b24114-c5eb-4f5f-82a7-e07ef3fa02b3",
   "metadata": {},
   "outputs": [],
   "source": [
    "people={\n",
    "    'characteristics':[{'NAME': 'BENIR', 'AGE' : '18', 'GENDER': 'MALE'},\n",
    "                       {'NAME': 'ALICE', 'AGE' : '17', 'GENDER': 'FEMALE'},\n",
    "                       {'NAME': 'TAYLOR', 'AGE' :'18', 'GENDER': 'MALE'}\n",
    "                        \n",
    "        \n",
    "    ]\n",
    "}"
   ]
  },
  {
   "cell_type": "code",
   "execution_count": 3,
   "id": "d6472c9f-8782-4bc1-a314-a7a5e96a4fc0",
   "metadata": {},
   "outputs": [],
   "source": [
    "# I created a dictionary with the key 'characteristics'. Inside the characteristics key is a list of dictionaries.\n",
    "# The dictionaries each have the keys name, age and gender. This are details of the employees I want to work with.\n",
    "# The next step is to load the PEOPLE dictionary to a JSON file."
   ]
  },
  {
   "cell_type": "code",
   "execution_count": 4,
   "id": "86812f47-8472-429a-a6cf-fff4f9f000b7",
   "metadata": {},
   "outputs": [],
   "source": [
    "json_file=json.dumps(people, indent=2)\n",
    "# Here I have created an object which we initiate the method dumps to PEOPLE dictionary.\n",
    "with open('example5.json','w') as f:\n",
    "    f.write(json_file)\n",
    "with open('example5.json', 'r') as g:\n",
    "    variable=g.read() #read is a method and not an attribute"
   ]
  },
  {
   "cell_type": "code",
   "execution_count": 5,
   "id": "eda3bec7-d5c4-43d9-a5c6-23a8d92daa0e",
   "metadata": {},
   "outputs": [],
   "source": [
    "#loading a json file to a dictionary"
   ]
  },
  {
   "cell_type": "code",
   "execution_count": 6,
   "id": "d72ce705-198b-4df1-9bb9-2943b150d65e",
   "metadata": {},
   "outputs": [],
   "source": [
    "#open the json file in read mode\n",
    "\n",
    "with open('example5.json','r') as openfile:\n",
    "    open_object=openfile.read()\n",
    "    json_object=json.loads(open_object)\n"
   ]
  },
  {
   "cell_type": "code",
   "execution_count": 7,
   "id": "aa25a7d5-6a3d-4966-8c76-b7258210efac",
   "metadata": {},
   "outputs": [
    {
     "name": "stdout",
     "output_type": "stream",
     "text": [
      "{'characteristics': [{'NAME': 'BENIR', 'AGE': '18', 'GENDER': 'MALE'}, {'NAME': 'ALICE', 'AGE': '17', 'GENDER': 'FEMALE'}, {'NAME': 'TAYLOR', 'AGE': '18', 'GENDER': 'MALE'}]}\n"
     ]
    }
   ],
   "source": [
    "print(json_object)"
   ]
  },
  {
   "cell_type": "code",
   "execution_count": 8,
   "id": "2462d3aa-811e-4d1b-8701-4c0fd707dd1e",
   "metadata": {},
   "outputs": [
    {
     "data": {
      "text/plain": [
       "dict_keys(['characteristics'])"
      ]
     },
     "execution_count": 8,
     "metadata": {},
     "output_type": "execute_result"
    }
   ],
   "source": [
    "json_object.keys() # to get the keys of the dictionary"
   ]
  },
  {
   "cell_type": "code",
   "execution_count": 9,
   "id": "205025fe-49da-498a-9c29-89a5d2133e2b",
   "metadata": {},
   "outputs": [
    {
     "data": {
      "text/plain": [
       "'BENIR'"
      ]
     },
     "execution_count": 9,
     "metadata": {},
     "output_type": "execute_result"
    }
   ],
   "source": [
    "json_object['characteristics'][0]['NAME']"
   ]
  },
  {
   "cell_type": "code",
   "execution_count": 10,
   "id": "11e00554-3866-4938-80a1-ece264822538",
   "metadata": {},
   "outputs": [],
   "source": [
    "## Creating an employee class that does both the loads and dumps function \n",
    "## What is the difference between load and loads; dump and dumps?"
   ]
  },
  {
   "cell_type": "code",
   "execution_count": 11,
   "id": "44888d94-936e-4560-a548-78a545f0e647",
   "metadata": {},
   "outputs": [],
   "source": [
    "class employee:\n",
    "    def __init__(self, name, age, gender):\n",
    "        self.name=name\n",
    "        self.age=age\n",
    "        self.gender=gender\n",
    "    def addyears(self, years_to_add):\n",
    "        self.age+=years_to_add\n",
    "        print(self.age)\n",
    "        # The method allows me to add the number of years to give a new age to the employee\n",
    "    def move_to_json(self):\n",
    "        self_dict={'NAME': self.name, 'AGE': self.age, 'GENDER': self.gender}\n",
    "        dump_string=json.dumps(self_dict,indent=4)\n",
    "        print(dump_string)\n",
    "        with open('example6.json','w') as jsonfile:\n",
    "            writethisdown=jsonfile.write(dump_string)\n",
    "            print(writethisdown) \n",
    "            # In the above steps, we are creating a dictionary from the instance of the class employee\n",
    "            # We are then dumping the dictionary to a json file using the dump_string\n",
    "            #We then open a new file to write json to it\n",
    "    def load_to_dictionary(self):\n",
    "        with open('example6.json','r') as dictionaryfile:\n",
    "            read_json=dictionaryfile.read()\n",
    "            load_file=json.loads(read_json)\n",
    "            print(load_file)\n",
    "            #in the above steps, we open the json file in read mode\n",
    "            #We then read the file, then we use the loads method and store it in an object in order to make our print statement more clear\n",
    "        \n",
    "        "
   ]
  },
  {
   "cell_type": "code",
   "execution_count": 12,
   "id": "7f4fa3af-1ffc-436e-b92c-a5710a60aae0",
   "metadata": {},
   "outputs": [],
   "source": [
    "first= employee('Julia',24,'Female')"
   ]
  },
  {
   "cell_type": "code",
   "execution_count": 13,
   "id": "cb7e6d90-e234-4806-b32e-744e6a02d216",
   "metadata": {},
   "outputs": [
    {
     "data": {
      "text/plain": [
       "'Julia'"
      ]
     },
     "execution_count": 13,
     "metadata": {},
     "output_type": "execute_result"
    }
   ],
   "source": [
    "first.name"
   ]
  },
  {
   "cell_type": "code",
   "execution_count": 14,
   "id": "9d1712ca-5c32-4a07-801c-b23e97f5c054",
   "metadata": {},
   "outputs": [
    {
     "name": "stdout",
     "output_type": "stream",
     "text": [
      "27\n"
     ]
    }
   ],
   "source": [
    "first.addyears(3)"
   ]
  },
  {
   "cell_type": "code",
   "execution_count": 15,
   "id": "cb383096-b9ea-4149-a5c1-d96d331db02b",
   "metadata": {},
   "outputs": [
    {
     "name": "stdout",
     "output_type": "stream",
     "text": [
      "{\n",
      "    \"NAME\": \"Julia\",\n",
      "    \"AGE\": 27,\n",
      "    \"GENDER\": \"Female\"\n",
      "}\n",
      "62\n"
     ]
    }
   ],
   "source": [
    "first.move_to_json()"
   ]
  },
  {
   "cell_type": "code",
   "execution_count": 16,
   "id": "dbe8d593-03f3-4cdc-9bfc-d9434c14f9ba",
   "metadata": {},
   "outputs": [
    {
     "name": "stdout",
     "output_type": "stream",
     "text": [
      "{'NAME': 'Julia', 'AGE': 27, 'GENDER': 'Female'}\n"
     ]
    }
   ],
   "source": [
    "first.load_to_dictionary()"
   ]
  },
  {
   "cell_type": "markdown",
   "id": "709f0ac4-07d2-4079-b8c6-3dbe53f629b8",
   "metadata": {},
   "source": [
    "## Author\n",
    "Omenda Benir"
   ]
  }
 ],
 "metadata": {
  "kernelspec": {
   "display_name": "Python 3 (ipykernel)",
   "language": "python",
   "name": "python3"
  },
  "language_info": {
   "codemirror_mode": {
    "name": "ipython",
    "version": 3
   },
   "file_extension": ".py",
   "mimetype": "text/x-python",
   "name": "python",
   "nbconvert_exporter": "python",
   "pygments_lexer": "ipython3",
   "version": "3.11.7"
  }
 },
 "nbformat": 4,
 "nbformat_minor": 5
}
