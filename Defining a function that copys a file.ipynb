{
 "cells": [
  {
   "cell_type": "markdown",
   "id": "5e152cfc-6d04-466f-a43e-d8c9b3e84f38",
   "metadata": {},
   "source": [
    "### Creating a function that copys a file into another file"
   ]
  },
  {
   "cell_type": "code",
   "execution_count": 1,
   "id": "0a31aa9d-34eb-427c-b54e-6bc1d73b1a42",
   "metadata": {},
   "outputs": [],
   "source": [
    "with open('example3.txt', 'w') as file1:\n",
    "    file1.write('This is line A\\nThis is line B\\nThis is line C\\nThis is line D\\nThis is line E\\nThis is line F')"
   ]
  },
  {
   "cell_type": "code",
   "execution_count": 2,
   "id": "d4529895-a148-46cb-b688-dfac9a08813d",
   "metadata": {},
   "outputs": [],
   "source": [
    "with open('example4.txt','w') as file2:\n",
    "    file2.write('This is line G\\n')\n"
   ]
  },
  {
   "cell_type": "code",
   "execution_count": 3,
   "id": "59dc402e-0420-4c06-8449-0b031361cd9b",
   "metadata": {},
   "outputs": [
    {
     "name": "stdout",
     "output_type": "stream",
     "text": [
      "This is line G\n",
      "This is line A\n",
      "This is line B\n",
      "This is line C\n",
      "This is line D\n",
      "This is line E\n",
      "This is line F\n"
     ]
    }
   ],
   "source": [
    "#with open('example3.txt','r') as test1:\n",
    "    #var1=test1.readlines()\n",
    "   # with open('example4.txt','a+') as test2:\n",
    "        #for line in var1:\n",
    "            #test2.write(line)\n",
    "        #test2.seek(0)\n",
    "        #print(test2.read())"
   ]
  },
  {
   "cell_type": "code",
   "execution_count": 3,
   "id": "994dc7fe-3c75-4161-8d83-801a96ea0757",
   "metadata": {},
   "outputs": [],
   "source": [
    "def copy_a_file(firstfile,secondfile):\n",
    "    with open(filetobecopied,'r') as test3:\n",
    "        var2=test3.readlines()\n",
    "        with open(filetobeappended,'a+') as test4:\n",
    "            for eachline in var2:\n",
    "                test4.write(eachline)\n",
    "            test4.seek(0)\n",
    "            print(test4.read())\n",
    "    "
   ]
  },
  {
   "cell_type": "code",
   "execution_count": 4,
   "id": "3e0aa232-1231-44ad-883a-e52ad2b755de",
   "metadata": {},
   "outputs": [],
   "source": [
    "filetobecopied='example3.txt'\n",
    "filetobeappended='example4.txt'\n"
   ]
  },
  {
   "cell_type": "code",
   "execution_count": 5,
   "id": "77881553-748e-4418-96a9-b404a4ff5fef",
   "metadata": {},
   "outputs": [
    {
     "name": "stdout",
     "output_type": "stream",
     "text": [
      "This is line G\n",
      "This is line A\n",
      "This is line B\n",
      "This is line C\n",
      "This is line D\n",
      "This is line E\n",
      "This is line F\n"
     ]
    }
   ],
   "source": [
    "copy_a_file(filetobecopied,filetobeappended)\n",
    "# I excluded the third cell to avoid re-appending while calling the function\n",
    "# Cell 3 was a test block"
   ]
  },
  {
   "cell_type": "code",
   "execution_count": null,
   "id": "f24ca321-6416-433c-8576-7e0de18ffe90",
   "metadata": {},
   "outputs": [],
   "source": []
  }
 ],
 "metadata": {
  "kernelspec": {
   "display_name": "Python 3 (ipykernel)",
   "language": "python",
   "name": "python3"
  },
  "language_info": {
   "codemirror_mode": {
    "name": "ipython",
    "version": 3
   },
   "file_extension": ".py",
   "mimetype": "text/x-python",
   "name": "python",
   "nbconvert_exporter": "python",
   "pygments_lexer": "ipython3",
   "version": "3.11.7"
  }
 },
 "nbformat": 4,
 "nbformat_minor": 5
}
